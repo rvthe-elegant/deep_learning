{
  "nbformat": 4,
  "nbformat_minor": 0,
  "metadata": {
    "colab": {
      "name": "ASSIGN1_ACTIVITY1.ipynb",
      "provenance": [],
      "collapsed_sections": [],
      "authorship_tag": "ABX9TyPQT6QnJtNBKKB1kmBsKzQ9",
      "include_colab_link": true
    },
    "kernelspec": {
      "name": "python3",
      "display_name": "Python 3"
    },
    "accelerator": "GPU"
  },
  "cells": [
    {
      "cell_type": "markdown",
      "metadata": {
        "id": "view-in-github",
        "colab_type": "text"
      },
      "source": [
        "<a href=\"https://colab.research.google.com/github/rvthe-elegant/deep_learning/blob/assignment_1/ASSIGN1_ACTIVITY1.ipynb\" target=\"_parent\"><img src=\"https://colab.research.google.com/assets/colab-badge.svg\" alt=\"Open In Colab\"/></a>"
      ]
    },
    {
      "cell_type": "code",
      "metadata": {
        "colab": {
          "base_uri": "https://localhost:8080/"
        },
        "id": "qILvGozoT9CW",
        "outputId": "ee3512ef-441d-40b4-d0b6-b9c7f648e1d6"
      },
      "source": [
        "print(7+8)"
      ],
      "execution_count": null,
      "outputs": [
        {
          "output_type": "stream",
          "text": [
            "15\n"
          ],
          "name": "stdout"
        }
      ]
    },
    {
      "cell_type": "code",
      "metadata": {
        "colab": {
          "base_uri": "https://localhost:8080/"
        },
        "id": "SnWq3pfbUHAo",
        "outputId": "fbb58f0b-99cb-49e0-f49d-bf15223719ce"
      },
      "source": [
        "pip install googletrans"
      ],
      "execution_count": null,
      "outputs": [
        {
          "output_type": "stream",
          "text": [
            "Collecting googletrans\n",
            "  Downloading https://files.pythonhosted.org/packages/71/3a/3b19effdd4c03958b90f40fe01c93de6d5280e03843cc5adf6956bfc9512/googletrans-3.0.0.tar.gz\n",
            "Collecting httpx==0.13.3\n",
            "\u001b[?25l  Downloading https://files.pythonhosted.org/packages/54/b4/698b284c6aed4d7c2b4fe3ba5df1fcf6093612423797e76fbb24890dd22f/httpx-0.13.3-py3-none-any.whl (55kB)\n",
            "\u001b[K     |████████████████████████████████| 61kB 3.1MB/s \n",
            "\u001b[?25hRequirement already satisfied: chardet==3.* in /usr/local/lib/python3.6/dist-packages (from httpx==0.13.3->googletrans) (3.0.4)\n",
            "Requirement already satisfied: certifi in /usr/local/lib/python3.6/dist-packages (from httpx==0.13.3->googletrans) (2020.12.5)\n",
            "Collecting sniffio\n",
            "  Downloading https://files.pythonhosted.org/packages/52/b0/7b2e028b63d092804b6794595871f936aafa5e9322dcaaad50ebf67445b3/sniffio-1.2.0-py3-none-any.whl\n",
            "Requirement already satisfied: idna==2.* in /usr/local/lib/python3.6/dist-packages (from httpx==0.13.3->googletrans) (2.10)\n",
            "Collecting rfc3986<2,>=1.3\n",
            "  Downloading https://files.pythonhosted.org/packages/78/be/7b8b99fd74ff5684225f50dd0e865393d2265656ef3b4ba9eaaaffe622b8/rfc3986-1.4.0-py2.py3-none-any.whl\n",
            "Collecting httpcore==0.9.*\n",
            "\u001b[?25l  Downloading https://files.pythonhosted.org/packages/dd/d5/e4ff9318693ac6101a2095e580908b591838c6f33df8d3ee8dd953ba96a8/httpcore-0.9.1-py3-none-any.whl (42kB)\n",
            "\u001b[K     |████████████████████████████████| 51kB 4.3MB/s \n",
            "\u001b[?25hCollecting hstspreload\n",
            "\u001b[?25l  Downloading https://files.pythonhosted.org/packages/dd/50/606213e12fb49c5eb667df0936223dcaf461f94e215ea60244b2b1e9b039/hstspreload-2020.12.22-py3-none-any.whl (994kB)\n",
            "\u001b[K     |████████████████████████████████| 1.0MB 6.5MB/s \n",
            "\u001b[?25hCollecting contextvars>=2.1; python_version < \"3.7\"\n",
            "  Downloading https://files.pythonhosted.org/packages/83/96/55b82d9f13763be9d672622e1b8106c85acb83edd7cc2fa5bc67cd9877e9/contextvars-2.4.tar.gz\n",
            "Collecting h11<0.10,>=0.8\n",
            "\u001b[?25l  Downloading https://files.pythonhosted.org/packages/5a/fd/3dad730b0f95e78aeeb742f96fa7bbecbdd56a58e405d3da440d5bfb90c6/h11-0.9.0-py2.py3-none-any.whl (53kB)\n",
            "\u001b[K     |████████████████████████████████| 61kB 6.4MB/s \n",
            "\u001b[?25hCollecting h2==3.*\n",
            "\u001b[?25l  Downloading https://files.pythonhosted.org/packages/25/de/da019bcc539eeab02f6d45836f23858ac467f584bfec7a526ef200242afe/h2-3.2.0-py2.py3-none-any.whl (65kB)\n",
            "\u001b[K     |████████████████████████████████| 71kB 5.8MB/s \n",
            "\u001b[?25hCollecting immutables>=0.9\n",
            "\u001b[?25l  Downloading https://files.pythonhosted.org/packages/99/e0/ea6fd4697120327d26773b5a84853f897a68e33d3f9376b00a8ff96e4f63/immutables-0.14-cp36-cp36m-manylinux1_x86_64.whl (98kB)\n",
            "\u001b[K     |████████████████████████████████| 102kB 7.3MB/s \n",
            "\u001b[?25hCollecting hpack<4,>=3.0\n",
            "  Downloading https://files.pythonhosted.org/packages/8a/cc/e53517f4a1e13f74776ca93271caef378dadec14d71c61c949d759d3db69/hpack-3.0.0-py2.py3-none-any.whl\n",
            "Collecting hyperframe<6,>=5.2.0\n",
            "  Downloading https://files.pythonhosted.org/packages/19/0c/bf88182bcb5dce3094e2f3e4fe20db28a9928cb7bd5b08024030e4b140db/hyperframe-5.2.0-py2.py3-none-any.whl\n",
            "Building wheels for collected packages: googletrans, contextvars\n",
            "  Building wheel for googletrans (setup.py) ... \u001b[?25l\u001b[?25hdone\n",
            "  Created wheel for googletrans: filename=googletrans-3.0.0-cp36-none-any.whl size=15736 sha256=89449d9516f880bda175d830ab9054e83adbba3c00ecf77df36cfb002f4506dc\n",
            "  Stored in directory: /root/.cache/pip/wheels/28/1a/a7/eaf4d7a3417a0c65796c547cff4deb6d79c7d14c2abd29273e\n",
            "  Building wheel for contextvars (setup.py) ... \u001b[?25l\u001b[?25hdone\n",
            "  Created wheel for contextvars: filename=contextvars-2.4-cp36-none-any.whl size=7667 sha256=93189516de54dcc7941b13c095b3f4ae31c74c20cef9cc0588effdec3ff9da65\n",
            "  Stored in directory: /root/.cache/pip/wheels/a5/7d/68/1ebae2668bda2228686e3c1cf16f2c2384cea6e9334ad5f6de\n",
            "Successfully built googletrans contextvars\n",
            "Installing collected packages: immutables, contextvars, sniffio, rfc3986, h11, hpack, hyperframe, h2, httpcore, hstspreload, httpx, googletrans\n",
            "Successfully installed contextvars-2.4 googletrans-3.0.0 h11-0.9.0 h2-3.2.0 hpack-3.0.0 hstspreload-2020.12.22 httpcore-0.9.1 httpx-0.13.3 hyperframe-5.2.0 immutables-0.14 rfc3986-1.4.0 sniffio-1.2.0\n"
          ],
          "name": "stdout"
        }
      ]
    },
    {
      "cell_type": "code",
      "metadata": {
        "id": "YZPssWGoUSJN",
        "colab": {
          "base_uri": "https://localhost:8080/"
        },
        "outputId": "157a9ba9-b528-43a6-84ca-34981bba4896"
      },
      "source": [
        "pip install google_trans_new"
      ],
      "execution_count": null,
      "outputs": [
        {
          "output_type": "stream",
          "text": [
            "Collecting google_trans_new\n",
            "  Downloading https://files.pythonhosted.org/packages/f9/7b/9f136106dc5824dc98185c97991d3cd9b53e70a197154dd49f7b899128f6/google_trans_new-1.1.9-py3-none-any.whl\n",
            "Installing collected packages: google-trans-new\n",
            "Successfully installed google-trans-new-1.1.9\n"
          ],
          "name": "stdout"
        }
      ]
    },
    {
      "cell_type": "code",
      "metadata": {
        "colab": {
          "base_uri": "https://localhost:8080/"
        },
        "id": "kYP7r5FiZsiv",
        "outputId": "43de2a56-25b5-4d70-ff8a-f188bafbe0dc"
      },
      "source": [
        "from google_trans_new import google_translator  \r\n",
        "translator = google_translator()  \r\n",
        "translate_text = translator.translate('สวัสดีจีน',lang_tgt='en')  \r\n",
        "print(translate_text)"
      ],
      "execution_count": null,
      "outputs": [
        {
          "output_type": "stream",
          "text": [
            "Hello china \n"
          ],
          "name": "stdout"
        }
      ]
    },
    {
      "cell_type": "code",
      "metadata": {
        "colab": {
          "base_uri": "https://localhost:8080/",
          "height": 128
        },
        "id": "JytcNe8ecZOn",
        "outputId": "bd487a71-8718-4906-a422-fd28e3cc27b5"
      },
      "source": [
        "f = open(\"C:\\Users\\DELL\\Desktop\\translate.txt\", 'r')\r\n",
        "if f.mode == 'r':\r\n",
        "    text = f.read()\r\n",
        "print(text)"
      ],
      "execution_count": null,
      "outputs": [
        {
          "output_type": "error",
          "ename": "SyntaxError",
          "evalue": "ignored",
          "traceback": [
            "\u001b[0;36m  File \u001b[0;32m\"<ipython-input-7-cdd695df88fa>\"\u001b[0;36m, line \u001b[0;32m1\u001b[0m\n\u001b[0;31m    f = open(\"C:\\Users\\DELL\\Desktop\\translate.txt\", 'r')\u001b[0m\n\u001b[0m            ^\u001b[0m\n\u001b[0;31mSyntaxError\u001b[0m\u001b[0;31m:\u001b[0m (unicode error) 'unicodeescape' codec can't decode bytes in position 2-3: truncated \\UXXXXXXXX escape\n"
          ]
        }
      ]
    },
    {
      "cell_type": "code",
      "metadata": {
        "id": "5WkHSd6AckJq",
        "colab": {
          "base_uri": "https://localhost:8080/"
        },
        "outputId": "6da72eef-dda4-4738-965a-2cf3f844f04c"
      },
      "source": [
        "!nvidia-smi"
      ],
      "execution_count": null,
      "outputs": [
        {
          "output_type": "stream",
          "text": [
            "Fri Feb  5 07:00:40 2021       \n",
            "+-----------------------------------------------------------------------------+\n",
            "| NVIDIA-SMI 460.39       Driver Version: 418.67       CUDA Version: 10.1     |\n",
            "|-------------------------------+----------------------+----------------------+\n",
            "| GPU  Name        Persistence-M| Bus-Id        Disp.A | Volatile Uncorr. ECC |\n",
            "| Fan  Temp  Perf  Pwr:Usage/Cap|         Memory-Usage | GPU-Util  Compute M. |\n",
            "|                               |                      |               MIG M. |\n",
            "|===============================+======================+======================|\n",
            "|   0  Tesla P100-PCIE...  Off  | 00000000:00:04.0 Off |                    0 |\n",
            "| N/A   36C    P0    25W / 250W |      0MiB / 16280MiB |      0%      Default |\n",
            "|                               |                      |                 ERR! |\n",
            "+-------------------------------+----------------------+----------------------+\n",
            "                                                                               \n",
            "+-----------------------------------------------------------------------------+\n",
            "| Processes:                                                                  |\n",
            "|  GPU   GI   CI        PID   Type   Process name                  GPU Memory |\n",
            "|        ID   ID                                                   Usage      |\n",
            "|=============================================================================|\n",
            "|  No running processes found                                                 |\n",
            "+-----------------------------------------------------------------------------+\n"
          ],
          "name": "stdout"
        }
      ]
    },
    {
      "cell_type": "code",
      "metadata": {
        "id": "0K2jiCF9-_f_"
      },
      "source": [
        "import  numpy as np\r\n",
        "import pandas as pd"
      ],
      "execution_count": null,
      "outputs": []
    },
    {
      "cell_type": "code",
      "metadata": {
        "colab": {
          "base_uri": "https://localhost:8080/"
        },
        "id": "OR-T2Lep76He",
        "outputId": "d53643f1-153d-41c4-c009-bc777e310221"
      },
      "source": [
        " class Perceptron(object):\r\n",
        "    \"\"\"Implements a perceptron network\"\"\"\r\n",
        "    def __init__(self, input_size, lr=1, epochs=100):\r\n",
        "        self.W = np.zeros(input_size+1)\r\n",
        "        # add one for bias\r\n",
        "        self.epochs = epochs\r\n",
        "        self.lr = lr\r\n",
        "    \r\n",
        "    def activation_fn(self, x):\r\n",
        "        #return (x >= 0).astype(np.float32)\r\n",
        "        return 1 if x >= 0 else 0\r\n",
        " \r\n",
        "    def predict(self, x):\r\n",
        "        z = self.W.T.dot(x)\r\n",
        "        a = self.activation_fn(z)\r\n",
        "        return a\r\n",
        " \r\n",
        "    def fit(self, X, d):\r\n",
        "        for _ in range(self.epochs):\r\n",
        "            for i in range(d.shape[0]):\r\n",
        "                x = np.insert(X[i], 0, 1)\r\n",
        "                y = self.predict(x)\r\n",
        "                e = d[i] - y\r\n",
        "                self.W = self.W + self.lr * e * x\r\n",
        "\r\n",
        "\r\n",
        "if __name__ == '__main__':\r\n",
        "    X = np.array([\r\n",
        "        [2, 3],\r\n",
        "        [5, 6],\r\n",
        "        [8, 9]\r\n",
        "    ])\r\n",
        "    d = np.array([0, 1, 1])\r\n",
        " \r\n",
        "    perceptron = Perceptron(input_size=2)\r\n",
        "    perceptron.fit(X, d)\r\n",
        "    print(perceptron.W)"
      ],
      "execution_count": null,
      "outputs": [
        {
          "output_type": "stream",
          "text": [
            "[-9.  6. -3.]\n"
          ],
          "name": "stdout"
        }
      ]
    },
    {
      "cell_type": "code",
      "metadata": {
        "id": "vxvtB_DY8BhG",
        "colab": {
          "base_uri": "https://localhost:8080/"
        },
        "outputId": "88066934-05e4-4966-dc4e-d28386cf8f4c"
      },
      "source": [
        "# Python program to implement a \r\n",
        "# single neuron neural network \r\n",
        "\r\n",
        "# import all necessery libraries \r\n",
        "from numpy import exp, array, random, dot, tanh \r\n",
        "\r\n",
        "# Class to create a neural \r\n",
        "# network with single neuron \r\n",
        "class NeuralNetwork(): \r\n",
        "\t\r\n",
        "\tdef __init__(self): \r\n",
        "\t\t\r\n",
        "\t\t# Using seed to make sure it'll \r\n",
        "\t\t# generate same weights in every run \r\n",
        "\t\trandom.seed(1) \r\n",
        "\t\t\r\n",
        "\t\t# 3x1 Weight matrix \r\n",
        "\t\tself.weight_matrix = 2 * random.random((3, 1)) - 1\r\n",
        "\r\n",
        "\t# tanh as activation function \r\n",
        "\tdef tanh(self, x): \r\n",
        "\t\treturn tanh(x) \r\n",
        "\r\n",
        "\t# derivative of tanh function. \r\n",
        "\t# Needed to calculate the gradients. \r\n",
        "\tdef tanh_derivative(self, x): \r\n",
        "\t\treturn 1.0 - tanh(x) ** 2\r\n",
        "\r\n",
        "\t# forward propagation \r\n",
        "\tdef forward_propagation(self, inputs): \r\n",
        "\t\treturn self.tanh(dot(inputs, self.weight_matrix)) \r\n",
        "\t\r\n",
        "\t# training the neural network. \r\n",
        "\tdef train(self, train_inputs, train_outputs, \r\n",
        "\t\t\t\t\t\t\tnum_train_iterations): \r\n",
        "\t\t\t\t\t\t\t\t\r\n",
        "\t\t# Number of iterations we want to \r\n",
        "\t\t# perform for this set of input. \r\n",
        "\t\tfor iteration in range(num_train_iterations): \r\n",
        "\t\t\toutput = self.forward_propagation(train_inputs) \r\n",
        "\r\n",
        "\t\t\t# Calculate the error in the output. \r\n",
        "\t\t\terror = train_outputs - output \r\n",
        "\r\n",
        "\t\t\t# multiply the error by input and then \r\n",
        "\t\t\t# by gradient of tanh funtion to calculate \r\n",
        "\t\t\t# the adjustment needs to be made in weights \r\n",
        "\t\t\tadjustment = dot(train_inputs.T, error *\r\n",
        "\t\t\t\t\t\t\tself.tanh_derivative(output)) \r\n",
        "\t\t\t\t\t\t\t\r\n",
        "\t\t\t# Adjust the weight matrix \r\n",
        "\t\t\tself.weight_matrix += adjustment \r\n",
        "\r\n",
        "# Driver Code \r\n",
        "if __name__ == \"__main__\": \r\n",
        "\t\r\n",
        "\tneural_network = NeuralNetwork() \r\n",
        "\t\r\n",
        "\tprint ('Random weights at the start of training') \r\n",
        "\tprint (neural_network.weight_matrix) \r\n",
        "\r\n",
        "\ttrain_inputs = array([[0, 0, 1], [1, 1, 1], [1, 0, 1], [0, 1, 1]]) \r\n",
        "\ttrain_outputs = array([[0, 1, 1, 0]]).T \r\n",
        "\r\n",
        "\tneural_network.train(train_inputs, train_outputs, 10000) \r\n",
        "\r\n",
        "\tprint ('New weights after training') \r\n",
        "\tprint (neural_network.weight_matrix) \r\n",
        "\r\n",
        "\t# Test the neural network with a new situation. \r\n",
        "\tprint (\"Testing network on new examples ->\") \r\n",
        "\tprint (neural_network.forward_propagation(array([1, 0, 0]))) \r\n"
      ],
      "execution_count": null,
      "outputs": [
        {
          "output_type": "stream",
          "text": [
            "Random weights at the start of training\n",
            "[[-0.16595599]\n",
            " [ 0.44064899]\n",
            " [-0.99977125]]\n",
            "New weights after training\n",
            "[[5.39428067]\n",
            " [0.19482422]\n",
            " [0.34317086]]\n",
            "Testing network on new examples ->\n",
            "[0.99995873]\n"
          ],
          "name": "stdout"
        }
      ]
    },
    {
      "cell_type": "code",
      "metadata": {
        "id": "2X7BJzegmYDv"
      },
      "source": [
        ""
      ],
      "execution_count": null,
      "outputs": []
    },
    {
      "cell_type": "markdown",
      "metadata": {
        "id": "b42uI67IoZx5"
      },
      "source": [
        "## **RAHUL LAXMAN VASANAD**\r\n",
        "## **20MAI0038**"
      ]
    },
    {
      "cell_type": "code",
      "metadata": {
        "colab": {
          "base_uri": "https://localhost:8080/"
        },
        "id": "JfTpFp2b0KsL",
        "outputId": "4a84afde-3314-4c30-f16a-2dfaa2f2c68b"
      },
      "source": [
        "#Creating Input matrix\r\n",
        "import numpy as np\r\n",
        "\r\n",
        "values = ([2,3],[5,6],[8,9])\r\n",
        "print(\"Training input values without Bias\\n\", values)"
      ],
      "execution_count": null,
      "outputs": [
        {
          "output_type": "stream",
          "text": [
            "Training input values without Bias\n",
            " ([2, 3], [5, 6], [8, 9])\n"
          ],
          "name": "stdout"
        }
      ]
    },
    {
      "cell_type": "code",
      "metadata": {
        "colab": {
          "base_uri": "https://localhost:8080/"
        },
        "id": "J2527_R80XA6",
        "outputId": "87a53e63-71fa-40d2-f4e3-83df9d5a32d3"
      },
      "source": [
        "#Adding Bias to the input values\r\n",
        "test2 = [[-1]] * len(values)\r\n",
        "values = np.concatenate((test2, values), axis = 1)  \r\n",
        "print(\"Training input values with bias in it\\n\",values)"
      ],
      "execution_count": null,
      "outputs": [
        {
          "output_type": "stream",
          "text": [
            "Training input values with bias in it\n",
            " [[-1  2  3]\n",
            " [-1  5  6]\n",
            " [-1  8  9]]\n"
          ],
          "name": "stdout"
        }
      ]
    },
    {
      "cell_type": "code",
      "metadata": {
        "colab": {
          "base_uri": "https://localhost:8080/"
        },
        "id": "zZhEOipc0llG",
        "outputId": "7bd329ea-6c15-4def-87cb-186eb05a396e"
      },
      "source": [
        "#Creating random weights\r\n",
        "m=3     #number of elements in each row of inputs\r\n",
        "n=1 \r\n",
        "weights = np.random.rand(m,n)*0.1 - 0.5\r\n",
        "print(\"Initial random weights\\n\",weights)"
      ],
      "execution_count": null,
      "outputs": [
        {
          "output_type": "stream",
          "text": [
            "Initial random weights\n",
            " [[-0.4082175 ]\n",
            " [-0.49350829]\n",
            " [-0.42478525]]\n"
          ],
          "name": "stdout"
        }
      ]
    },
    {
      "cell_type": "code",
      "metadata": {
        "colab": {
          "base_uri": "https://localhost:8080/"
        },
        "id": "zN5RvUZN0xl_",
        "outputId": "ac850ff8-20e9-4de8-ba59-74501d360b43"
      },
      "source": [
        "#Target values Matrix\r\n",
        "final = ([0],[1],[1])\r\n",
        "print(\"Training data target values are\\n\", final)"
      ],
      "execution_count": null,
      "outputs": [
        {
          "output_type": "stream",
          "text": [
            "Training data target values are\n",
            " ([0], [1], [1])\n"
          ],
          "name": "stdout"
        }
      ]
    },
    {
      "cell_type": "code",
      "metadata": {
        "id": "foY-ZqzQ0_zH"
      },
      "source": [
        "#Method for updating weights\r\n",
        "def updateWeights(weights, inputs, activation, targets):\r\n",
        "    eta = 0.25\r\n",
        "    weights += eta*np.dot(np.transpose(inputs), targets - activation)\r\n",
        "    return weights"
      ],
      "execution_count": null,
      "outputs": []
    },
    {
      "cell_type": "code",
      "metadata": {
        "id": "cXTflxQm2hB_"
      },
      "source": [
        "#Creating Methods for Learning\r\n",
        "def  prediction (inputs, weights, targets):\r\n",
        "    #representing Activation function with 'ack [[]]' variable\r\n",
        "    ack = [[0]] * len(inputs)\r\n",
        "    for i in range(0, len(inputs)):    \r\n",
        "        for j in range(0,len(weights)):\r\n",
        "            ack[i] += inputs[i][j] * weights[j]\r\n",
        "        ack[i] = np.where(ack[i]>0, 1, 0)\r\n",
        "        #checking values with target\r\n",
        "        if(targets[i] != ack[i]):\r\n",
        "            weights = updateWeights(weights, inputs, ack[i], targets)\r\n",
        "        print(ack[i])\r\n",
        "    return weights"
      ],
      "execution_count": null,
      "outputs": []
    },
    {
      "cell_type": "code",
      "metadata": {
        "colab": {
          "base_uri": "https://localhost:8080/"
        },
        "id": "YU88sBeT2qZ3",
        "outputId": "acb9ddcc-d820-4168-eb60-6ee6721fcafe"
      },
      "source": [
        "#Training our model and extracting stable weights\r\n",
        "iterations = 4\r\n",
        "for temp in range(0, iterations):\r\n",
        "    print(\"\\nIteration \",temp+1,\"\\n\")\r\n",
        "    weights = prediction(values, weights, final)\r\n",
        "    \r\n",
        "print(\"\\nTrained Weights\\n\", weights)"
      ],
      "execution_count": null,
      "outputs": [
        {
          "output_type": "stream",
          "text": [
            "\n",
            "Iteration  1 \n",
            "\n",
            "[0]\n",
            "[0]\n",
            "[1]\n",
            "\n",
            "Iteration  2 \n",
            "\n",
            "[1]\n",
            "[1]\n",
            "[1]\n",
            "\n",
            "Iteration  3 \n",
            "\n",
            "[1]\n",
            "[1]\n",
            "[1]\n",
            "\n",
            "Iteration  4 \n",
            "\n",
            "[1]\n",
            "[1]\n",
            "[1]\n",
            "\n",
            "Trained Weights\n",
            " [[-0.16765962]\n",
            " [ 1.25099204]\n",
            " [ 1.00857987]]\n"
          ],
          "name": "stdout"
        }
      ]
    },
    {
      "cell_type": "code",
      "metadata": {
        "colab": {
          "base_uri": "https://localhost:8080/"
        },
        "id": "iLnn6KHj27MP",
        "outputId": "e7b3fa7c-2ac3-43bd-a413-68546c19a419"
      },
      "source": [
        "#Testing new data\r\n",
        "def perceptronPredict(weights, newInput):\r\n",
        "    activation = np.dot(newInput, weights)\r\n",
        "    activation = np.where(activation>0, 1, 0)\r\n",
        "    print(activation)\r\n",
        "\r\n",
        "\r\n",
        "newInput = ([-1.0, 7,8])\r\n",
        "perceptronPredict(weights, newInput)"
      ],
      "execution_count": null,
      "outputs": [
        {
          "output_type": "stream",
          "text": [
            "[1]\n"
          ],
          "name": "stdout"
        }
      ]
    }
  ]
}