{
  "nbformat": 4,
  "nbformat_minor": 0,
  "metadata": {
    "colab": {
      "name": "DL_ASSIGN6.ipynb",
      "provenance": [],
      "collapsed_sections": [],
      "authorship_tag": "ABX9TyN9OfBrb8RhdTyKSb5zqT14",
      "include_colab_link": true
    },
    "kernelspec": {
      "name": "python3",
      "display_name": "Python 3"
    },
    "language_info": {
      "name": "python"
    },
    "accelerator": "GPU"
  },
  "cells": [
    {
      "cell_type": "markdown",
      "metadata": {
        "id": "view-in-github",
        "colab_type": "text"
      },
      "source": [
        "<a href=\"https://colab.research.google.com/github/rvthe-elegant/deep_learning/blob/Assignment_6/DL_ASSIGN6.ipynb\" target=\"_parent\"><img src=\"https://colab.research.google.com/assets/colab-badge.svg\" alt=\"Open In Colab\"/></a>"
      ]
    },
    {
      "cell_type": "markdown",
      "metadata": {
        "id": "VeQAi35whjJT"
      },
      "source": [
        "## **20MAI0038**"
      ]
    },
    {
      "cell_type": "markdown",
      "metadata": {
        "id": "cy96cBeoh5N8"
      },
      "source": [
        "## **Rahul Laxman Vasanad**"
      ]
    },
    {
      "cell_type": "markdown",
      "metadata": {
        "id": "0AA1grkRiAv7"
      },
      "source": [
        "## **Implementation of AutoEncoder Decoder**"
      ]
    },
    {
      "cell_type": "markdown",
      "metadata": {
        "id": "DEQMr04TibBZ"
      },
      "source": [
        "## **1. Building Simple Auto Encoder**"
      ]
    },
    {
      "cell_type": "code",
      "metadata": {
        "id": "kh_BOJqlcFXc"
      },
      "source": [
        "import keras\n",
        "from keras import layers\n",
        "\n",
        "# This is the size of our encoded representations\n",
        "encoding_dim = 32  # 32 floats -> compression of factor 24.5, assuming the input is 784 floats\n",
        "\n",
        "# This is our input image\n",
        "input_img = keras.Input(shape=(784,))\n",
        "# \"encoded\" is the encoded representation of the input\n",
        "encoded = layers.Dense(encoding_dim, activation='relu')(input_img)\n",
        "# \"decoded\" is the lossy reconstruction of the input\n",
        "decoded = layers.Dense(784, activation='sigmoid')(encoded)\n",
        "\n",
        "# This model maps an input to its reconstruction\n",
        "autoencoder = keras.Model(input_img, decoded)"
      ],
      "execution_count": 1,
      "outputs": []
    },
    {
      "cell_type": "code",
      "metadata": {
        "id": "iwhST0P3cfBO"
      },
      "source": [
        "# This model maps an input to its encoded representation\n",
        "encoder = keras.Model(input_img, encoded)"
      ],
      "execution_count": 3,
      "outputs": []
    },
    {
      "cell_type": "code",
      "metadata": {
        "id": "Ygsf7DHYclW0"
      },
      "source": [
        "# This is our encoded (32-dimensional) input\n",
        "encoded_input = keras.Input(shape=(encoding_dim,))\n",
        "# Retrieve the last layer of the autoencoder model\n",
        "decoder_layer = autoencoder.layers[-1]\n",
        "# Create the decoder model\n",
        "decoder = keras.Model(encoded_input, decoder_layer(encoded_input))"
      ],
      "execution_count": 4,
      "outputs": []
    },
    {
      "cell_type": "code",
      "metadata": {
        "id": "Uuq4AslReLao"
      },
      "source": [
        "#Compiling Auto Encoder model\n",
        "autoencoder.compile(optimizer='adam', loss='binary_crossentropy')"
      ],
      "execution_count": 5,
      "outputs": []
    },
    {
      "cell_type": "markdown",
      "metadata": {
        "id": "IG-LtblHjIXK"
      },
      "source": [
        "## **2. Loading the mnist data**"
      ]
    },
    {
      "cell_type": "code",
      "metadata": {
        "colab": {
          "base_uri": "https://localhost:8080/"
        },
        "id": "lxTx8h94eTWf",
        "outputId": "b23d61a3-13eb-4124-a1bb-ed61ba13630b"
      },
      "source": [
        "from keras.datasets import mnist\n",
        "import numpy as np\n",
        "(x_train, _), (x_test, _) = mnist.load_data()"
      ],
      "execution_count": 6,
      "outputs": [
        {
          "output_type": "stream",
          "text": [
            "Downloading data from https://storage.googleapis.com/tensorflow/tf-keras-datasets/mnist.npz\n",
            "11493376/11490434 [==============================] - 0s 0us/step\n"
          ],
          "name": "stdout"
        }
      ]
    },
    {
      "cell_type": "code",
      "metadata": {
        "colab": {
          "base_uri": "https://localhost:8080/"
        },
        "id": "D2HDj7ZweXIR",
        "outputId": "d93d7bce-929f-496a-b847-fb1400d37044"
      },
      "source": [
        "x_train = x_train.astype('float32') / 255.\n",
        "x_test = x_test.astype('float32') / 255.\n",
        "x_train = x_train.reshape((len(x_train), np.prod(x_train.shape[1:])))\n",
        "x_test = x_test.reshape((len(x_test), np.prod(x_test.shape[1:])))\n",
        "print(x_train.shape)\n",
        "print(x_test.shape)"
      ],
      "execution_count": 7,
      "outputs": [
        {
          "output_type": "stream",
          "text": [
            "(60000, 784)\n",
            "(10000, 784)\n"
          ],
          "name": "stdout"
        }
      ]
    },
    {
      "cell_type": "markdown",
      "metadata": {
        "id": "ggWBSOv8jWtb"
      },
      "source": [
        "## **3. Training the model**"
      ]
    },
    {
      "cell_type": "code",
      "metadata": {
        "colab": {
          "base_uri": "https://localhost:8080/"
        },
        "id": "1kjFGp4YeggA",
        "outputId": "6b0e9222-b943-4099-8a39-af015162d174"
      },
      "source": [
        "autoencoder.fit(x_train, x_train,\n",
        "                epochs=50,\n",
        "                batch_size=256,\n",
        "                shuffle=True,\n",
        "                validation_data=(x_test, x_test))"
      ],
      "execution_count": 8,
      "outputs": [
        {
          "output_type": "stream",
          "text": [
            "Epoch 1/50\n",
            "235/235 [==============================] - 4s 5ms/step - loss: 0.3894 - val_loss: 0.1875\n",
            "Epoch 2/50\n",
            "235/235 [==============================] - 1s 4ms/step - loss: 0.1755 - val_loss: 0.1508\n",
            "Epoch 3/50\n",
            "235/235 [==============================] - 1s 3ms/step - loss: 0.1472 - val_loss: 0.1332\n",
            "Epoch 4/50\n",
            "235/235 [==============================] - 1s 4ms/step - loss: 0.1311 - val_loss: 0.1211\n",
            "Epoch 5/50\n",
            "235/235 [==============================] - 1s 3ms/step - loss: 0.1198 - val_loss: 0.1122\n",
            "Epoch 6/50\n",
            "235/235 [==============================] - 1s 4ms/step - loss: 0.1123 - val_loss: 0.1062\n",
            "Epoch 7/50\n",
            "235/235 [==============================] - 1s 3ms/step - loss: 0.1064 - val_loss: 0.1022\n",
            "Epoch 8/50\n",
            "235/235 [==============================] - 1s 3ms/step - loss: 0.1025 - val_loss: 0.0990\n",
            "Epoch 9/50\n",
            "235/235 [==============================] - 1s 4ms/step - loss: 0.0996 - val_loss: 0.0968\n",
            "Epoch 10/50\n",
            "235/235 [==============================] - 1s 4ms/step - loss: 0.0977 - val_loss: 0.0953\n",
            "Epoch 11/50\n",
            "235/235 [==============================] - 1s 4ms/step - loss: 0.0963 - val_loss: 0.0943\n",
            "Epoch 12/50\n",
            "235/235 [==============================] - 1s 3ms/step - loss: 0.0954 - val_loss: 0.0936\n",
            "Epoch 13/50\n",
            "235/235 [==============================] - 1s 4ms/step - loss: 0.0948 - val_loss: 0.0932\n",
            "Epoch 14/50\n",
            "235/235 [==============================] - 1s 4ms/step - loss: 0.0942 - val_loss: 0.0929\n",
            "Epoch 15/50\n",
            "235/235 [==============================] - 1s 4ms/step - loss: 0.0940 - val_loss: 0.0926\n",
            "Epoch 16/50\n",
            "235/235 [==============================] - 1s 4ms/step - loss: 0.0937 - val_loss: 0.0924\n",
            "Epoch 17/50\n",
            "235/235 [==============================] - 1s 4ms/step - loss: 0.0938 - val_loss: 0.0923\n",
            "Epoch 18/50\n",
            "235/235 [==============================] - 1s 4ms/step - loss: 0.0935 - val_loss: 0.0923\n",
            "Epoch 19/50\n",
            "235/235 [==============================] - 1s 4ms/step - loss: 0.0932 - val_loss: 0.0921\n",
            "Epoch 20/50\n",
            "235/235 [==============================] - 1s 3ms/step - loss: 0.0934 - val_loss: 0.0921\n",
            "Epoch 21/50\n",
            "235/235 [==============================] - 1s 4ms/step - loss: 0.0931 - val_loss: 0.0919\n",
            "Epoch 22/50\n",
            "235/235 [==============================] - 1s 4ms/step - loss: 0.0932 - val_loss: 0.0920\n",
            "Epoch 23/50\n",
            "235/235 [==============================] - 1s 4ms/step - loss: 0.0930 - val_loss: 0.0919\n",
            "Epoch 24/50\n",
            "235/235 [==============================] - 1s 4ms/step - loss: 0.0931 - val_loss: 0.0918\n",
            "Epoch 25/50\n",
            "235/235 [==============================] - 1s 4ms/step - loss: 0.0930 - val_loss: 0.0918\n",
            "Epoch 26/50\n",
            "235/235 [==============================] - 1s 4ms/step - loss: 0.0929 - val_loss: 0.0918\n",
            "Epoch 27/50\n",
            "235/235 [==============================] - 1s 4ms/step - loss: 0.0929 - val_loss: 0.0917\n",
            "Epoch 28/50\n",
            "235/235 [==============================] - 1s 4ms/step - loss: 0.0930 - val_loss: 0.0917\n",
            "Epoch 29/50\n",
            "235/235 [==============================] - 1s 4ms/step - loss: 0.0927 - val_loss: 0.0918\n",
            "Epoch 30/50\n",
            "235/235 [==============================] - 1s 4ms/step - loss: 0.0929 - val_loss: 0.0917\n",
            "Epoch 31/50\n",
            "235/235 [==============================] - 1s 4ms/step - loss: 0.0928 - val_loss: 0.0916\n",
            "Epoch 32/50\n",
            "235/235 [==============================] - 1s 4ms/step - loss: 0.0927 - val_loss: 0.0916\n",
            "Epoch 33/50\n",
            "235/235 [==============================] - 1s 4ms/step - loss: 0.0928 - val_loss: 0.0916\n",
            "Epoch 34/50\n",
            "235/235 [==============================] - 1s 4ms/step - loss: 0.0927 - val_loss: 0.0916\n",
            "Epoch 35/50\n",
            "235/235 [==============================] - 1s 4ms/step - loss: 0.0926 - val_loss: 0.0915\n",
            "Epoch 36/50\n",
            "235/235 [==============================] - 1s 4ms/step - loss: 0.0927 - val_loss: 0.0915\n",
            "Epoch 37/50\n",
            "235/235 [==============================] - 1s 4ms/step - loss: 0.0928 - val_loss: 0.0915\n",
            "Epoch 38/50\n",
            "235/235 [==============================] - 1s 4ms/step - loss: 0.0926 - val_loss: 0.0916\n",
            "Epoch 39/50\n",
            "235/235 [==============================] - 1s 4ms/step - loss: 0.0926 - val_loss: 0.0915\n",
            "Epoch 40/50\n",
            "235/235 [==============================] - 1s 4ms/step - loss: 0.0926 - val_loss: 0.0915\n",
            "Epoch 41/50\n",
            "235/235 [==============================] - 1s 4ms/step - loss: 0.0927 - val_loss: 0.0915\n",
            "Epoch 42/50\n",
            "235/235 [==============================] - 1s 4ms/step - loss: 0.0927 - val_loss: 0.0915\n",
            "Epoch 43/50\n",
            "235/235 [==============================] - 1s 4ms/step - loss: 0.0926 - val_loss: 0.0915\n",
            "Epoch 44/50\n",
            "235/235 [==============================] - 1s 4ms/step - loss: 0.0927 - val_loss: 0.0915\n",
            "Epoch 45/50\n",
            "235/235 [==============================] - 1s 4ms/step - loss: 0.0926 - val_loss: 0.0914\n",
            "Epoch 46/50\n",
            "235/235 [==============================] - 1s 4ms/step - loss: 0.0925 - val_loss: 0.0914\n",
            "Epoch 47/50\n",
            "235/235 [==============================] - 1s 4ms/step - loss: 0.0925 - val_loss: 0.0916\n",
            "Epoch 48/50\n",
            "235/235 [==============================] - 1s 4ms/step - loss: 0.0926 - val_loss: 0.0914\n",
            "Epoch 49/50\n",
            "235/235 [==============================] - 1s 4ms/step - loss: 0.0924 - val_loss: 0.0914\n",
            "Epoch 50/50\n",
            "235/235 [==============================] - 1s 4ms/step - loss: 0.0925 - val_loss: 0.0914\n"
          ],
          "name": "stdout"
        },
        {
          "output_type": "execute_result",
          "data": {
            "text/plain": [
              "<tensorflow.python.keras.callbacks.History at 0x7f8b50086250>"
            ]
          },
          "metadata": {
            "tags": []
          },
          "execution_count": 8
        }
      ]
    },
    {
      "cell_type": "markdown",
      "metadata": {
        "id": "yOG4FwoXjdc-"
      },
      "source": [
        "After 50 epochs, the autoencoder seems to reach a stable train/validation loss value of about 0.09. We can try to visualize the reconstructed inputs and the encoded representations."
      ]
    },
    {
      "cell_type": "code",
      "metadata": {
        "id": "1mjjRjmRej5s"
      },
      "source": [
        "# Encode and decode some digits\n",
        "# Note that we take them from the *test* set\n",
        "encoded_imgs = encoder.predict(x_test)\n",
        "decoded_imgs = decoder.predict(encoded_imgs)"
      ],
      "execution_count": 9,
      "outputs": []
    },
    {
      "cell_type": "markdown",
      "metadata": {
        "id": "1oL5tw7WjmK7"
      },
      "source": [
        "## **4. Reconstructiong the images with the comaprision of original images**"
      ]
    },
    {
      "cell_type": "code",
      "metadata": {
        "colab": {
          "base_uri": "https://localhost:8080/",
          "height": 248
        },
        "id": "IqaECYASffbo",
        "outputId": "fd92cf62-5a8b-4b27-8a26-66c8f49c0bfa"
      },
      "source": [
        "\n",
        "import matplotlib.pyplot as plt\n",
        "\n",
        "n = 10  # How many digits we will display\n",
        "plt.figure(figsize=(20, 4))\n",
        "for i in range(n):\n",
        "    # Display original\n",
        "    ax = plt.subplot(2, n, i + 1)\n",
        "    plt.imshow(x_test[i].reshape(28, 28))\n",
        "    plt.gray()\n",
        "    ax.get_xaxis().set_visible(False)\n",
        "    ax.get_yaxis().set_visible(False)\n",
        "\n",
        "    # Display reconstruction\n",
        "    ax = plt.subplot(2, n, i + 1 + n)\n",
        "    plt.imshow(decoded_imgs[i].reshape(28, 28))\n",
        "    plt.gray()\n",
        "    ax.get_xaxis().set_visible(False)\n",
        "    ax.get_yaxis().set_visible(False)\n",
        "plt.show()"
      ],
      "execution_count": 10,
      "outputs": [
        {
          "output_type": "display_data",
          "data": {
            "image/png": "[encoded data removed]",
            "text/plain": [
              "<Figure size 1440x288 with 20 Axes>"
            ]
          },
          "metadata": {
            "tags": [],
            "needs_background": "light"
          }
        }
      ]
    },
    {
      "cell_type": "markdown",
      "metadata": {
        "id": "k-DJ-XqAmFmb"
      },
      "source": [
        "The top row is the original digits, and the bottom row is the reconstructed digits."
      ]
    },
    {
      "cell_type": "markdown",
      "metadata": {
        "id": "HLuJ99choI_e"
      },
      "source": [
        "## **Deep AutoEncoder**"
      ]
    },
    {
      "cell_type": "code",
      "metadata": {
        "id": "eXhzITiimMGs"
      },
      "source": [
        "input_img = keras.Input(shape=(784,))\n",
        "encoded = layers.Dense(128, activation='relu')(input_img)\n",
        "encoded = layers.Dense(64, activation='relu')(encoded)\n",
        "encoded = layers.Dense(32, activation='relu')(encoded)\n",
        "\n",
        "decoded = layers.Dense(64, activation='relu')(encoded)\n",
        "decoded = layers.Dense(128, activation='relu')(decoded)\n",
        "decoded = layers.Dense(784, activation='sigmoid')(decoded)"
      ],
      "execution_count": 11,
      "outputs": []
    },
    {
      "cell_type": "code",
      "metadata": {
        "colab": {
          "base_uri": "https://localhost:8080/"
        },
        "id": "1epl1G2oftHP",
        "outputId": "9734a8c2-e092-4002-b940-435d61d86314"
      },
      "source": [
        "autoencoder = keras.Model(input_img, decoded)\n",
        "autoencoder.compile(optimizer='adam', loss='binary_crossentropy')\n",
        "\n",
        "autoencoder.fit(x_train, x_train,\n",
        "                epochs=100,\n",
        "                batch_size=256,\n",
        "                shuffle=True,\n",
        "                validation_data=(x_test, x_test))"
      ],
      "execution_count": 12,
      "outputs": [
        {
          "output_type": "stream",
          "text": [
            "Epoch 1/100\n",
            "235/235 [==============================] - 1s 5ms/step - loss: 0.3462 - val_loss: 0.1684\n",
            "Epoch 2/100\n",
            "235/235 [==============================] - 1s 4ms/step - loss: 0.1602 - val_loss: 0.1395\n",
            "Epoch 3/100\n",
            "235/235 [==============================] - 1s 4ms/step - loss: 0.1372 - val_loss: 0.1275\n",
            "Epoch 4/100\n",
            "235/235 [==============================] - 1s 4ms/step - loss: 0.1252 - val_loss: 0.1179\n",
            "Epoch 5/100\n",
            "235/235 [==============================] - 1s 4ms/step - loss: 0.1177 - val_loss: 0.1131\n",
            "Epoch 6/100\n",
            "235/235 [==============================] - 1s 4ms/step - loss: 0.1137 - val_loss: 0.1092\n",
            "Epoch 7/100\n",
            "235/235 [==============================] - 1s 4ms/step - loss: 0.1100 - val_loss: 0.1066\n",
            "Epoch 8/100\n",
            "235/235 [==============================] - 1s 4ms/step - loss: 0.1073 - val_loss: 0.1043\n",
            "Epoch 9/100\n",
            "235/235 [==============================] - 1s 4ms/step - loss: 0.1051 - val_loss: 0.1025\n",
            "Epoch 10/100\n",
            "235/235 [==============================] - 1s 4ms/step - loss: 0.1032 - val_loss: 0.1011\n",
            "Epoch 11/100\n",
            "235/235 [==============================] - 1s 4ms/step - loss: 0.1017 - val_loss: 0.0996\n",
            "Epoch 12/100\n",
            "235/235 [==============================] - 1s 4ms/step - loss: 0.1004 - val_loss: 0.0984\n",
            "Epoch 13/100\n",
            "235/235 [==============================] - 1s 4ms/step - loss: 0.0992 - val_loss: 0.0974\n",
            "Epoch 14/100\n",
            "235/235 [==============================] - 1s 4ms/step - loss: 0.0981 - val_loss: 0.0965\n",
            "Epoch 15/100\n",
            "235/235 [==============================] - 1s 4ms/step - loss: 0.0972 - val_loss: 0.0957\n",
            "Epoch 16/100\n",
            "235/235 [==============================] - 1s 4ms/step - loss: 0.0965 - val_loss: 0.0953\n",
            "Epoch 17/100\n",
            "235/235 [==============================] - 1s 4ms/step - loss: 0.0958 - val_loss: 0.0947\n",
            "Epoch 18/100\n",
            "235/235 [==============================] - 1s 4ms/step - loss: 0.0953 - val_loss: 0.0945\n",
            "Epoch 19/100\n",
            "235/235 [==============================] - 1s 4ms/step - loss: 0.0949 - val_loss: 0.0938\n",
            "Epoch 20/100\n",
            "235/235 [==============================] - 1s 4ms/step - loss: 0.0941 - val_loss: 0.0933\n",
            "Epoch 21/100\n",
            "235/235 [==============================] - 1s 4ms/step - loss: 0.0938 - val_loss: 0.0931\n",
            "Epoch 22/100\n",
            "235/235 [==============================] - 1s 4ms/step - loss: 0.0937 - val_loss: 0.0925\n",
            "Epoch 23/100\n",
            "235/235 [==============================] - 1s 4ms/step - loss: 0.0932 - val_loss: 0.0925\n",
            "Epoch 24/100\n",
            "235/235 [==============================] - 1s 4ms/step - loss: 0.0931 - val_loss: 0.0923\n",
            "Epoch 25/100\n",
            "235/235 [==============================] - 1s 4ms/step - loss: 0.0926 - val_loss: 0.0921\n",
            "Epoch 26/100\n",
            "235/235 [==============================] - 1s 4ms/step - loss: 0.0925 - val_loss: 0.0916\n",
            "Epoch 27/100\n",
            "235/235 [==============================] - 1s 4ms/step - loss: 0.0922 - val_loss: 0.0916\n",
            "Epoch 28/100\n",
            "235/235 [==============================] - 1s 4ms/step - loss: 0.0919 - val_loss: 0.0917\n",
            "Epoch 29/100\n",
            "235/235 [==============================] - 1s 4ms/step - loss: 0.0917 - val_loss: 0.0910\n",
            "Epoch 30/100\n",
            "235/235 [==============================] - 1s 4ms/step - loss: 0.0913 - val_loss: 0.0909\n",
            "Epoch 31/100\n",
            "235/235 [==============================] - 1s 4ms/step - loss: 0.0911 - val_loss: 0.0905\n",
            "Epoch 32/100\n",
            "235/235 [==============================] - 1s 4ms/step - loss: 0.0910 - val_loss: 0.0902\n",
            "Epoch 33/100\n",
            "235/235 [==============================] - 1s 4ms/step - loss: 0.0907 - val_loss: 0.0900\n",
            "Epoch 34/100\n",
            "235/235 [==============================] - 1s 4ms/step - loss: 0.0904 - val_loss: 0.0899\n",
            "Epoch 35/100\n",
            "235/235 [==============================] - 1s 4ms/step - loss: 0.0899 - val_loss: 0.0897\n",
            "Epoch 36/100\n",
            "235/235 [==============================] - 1s 4ms/step - loss: 0.0900 - val_loss: 0.0892\n",
            "Epoch 37/100\n",
            "235/235 [==============================] - 1s 4ms/step - loss: 0.0897 - val_loss: 0.0894\n",
            "Epoch 38/100\n",
            "235/235 [==============================] - 1s 4ms/step - loss: 0.0895 - val_loss: 0.0892\n",
            "Epoch 39/100\n",
            "235/235 [==============================] - 1s 4ms/step - loss: 0.0895 - val_loss: 0.0889\n",
            "Epoch 40/100\n",
            "235/235 [==============================] - 1s 4ms/step - loss: 0.0893 - val_loss: 0.0890\n",
            "Epoch 41/100\n",
            "235/235 [==============================] - 1s 4ms/step - loss: 0.0892 - val_loss: 0.0887\n",
            "Epoch 42/100\n",
            "235/235 [==============================] - 1s 4ms/step - loss: 0.0888 - val_loss: 0.0885\n",
            "Epoch 43/100\n",
            "235/235 [==============================] - 1s 4ms/step - loss: 0.0889 - val_loss: 0.0885\n",
            "Epoch 44/100\n",
            "235/235 [==============================] - 1s 4ms/step - loss: 0.0886 - val_loss: 0.0884\n",
            "Epoch 45/100\n",
            "235/235 [==============================] - 1s 4ms/step - loss: 0.0887 - val_loss: 0.0881\n",
            "Epoch 46/100\n",
            "235/235 [==============================] - 1s 4ms/step - loss: 0.0885 - val_loss: 0.0880\n",
            "Epoch 47/100\n",
            "235/235 [==============================] - 1s 4ms/step - loss: 0.0884 - val_loss: 0.0881\n",
            "Epoch 48/100\n",
            "235/235 [==============================] - 1s 4ms/step - loss: 0.0884 - val_loss: 0.0880\n",
            "Epoch 49/100\n",
            "235/235 [==============================] - 1s 4ms/step - loss: 0.0881 - val_loss: 0.0879\n",
            "Epoch 50/100\n",
            "235/235 [==============================] - 1s 4ms/step - loss: 0.0881 - val_loss: 0.0878\n",
            "Epoch 51/100\n",
            "235/235 [==============================] - 1s 4ms/step - loss: 0.0879 - val_loss: 0.0877\n",
            "Epoch 52/100\n",
            "235/235 [==============================] - 1s 4ms/step - loss: 0.0878 - val_loss: 0.0876\n",
            "Epoch 53/100\n",
            "235/235 [==============================] - 1s 4ms/step - loss: 0.0878 - val_loss: 0.0874\n",
            "Epoch 54/100\n",
            "235/235 [==============================] - 1s 4ms/step - loss: 0.0876 - val_loss: 0.0875\n",
            "Epoch 55/100\n",
            "235/235 [==============================] - 1s 4ms/step - loss: 0.0876 - val_loss: 0.0873\n",
            "Epoch 56/100\n",
            "235/235 [==============================] - 1s 4ms/step - loss: 0.0873 - val_loss: 0.0871\n",
            "Epoch 57/100\n",
            "235/235 [==============================] - 1s 4ms/step - loss: 0.0871 - val_loss: 0.0873\n",
            "Epoch 58/100\n",
            "235/235 [==============================] - 1s 4ms/step - loss: 0.0874 - val_loss: 0.0873\n",
            "Epoch 59/100\n",
            "235/235 [==============================] - 1s 4ms/step - loss: 0.0871 - val_loss: 0.0869\n",
            "Epoch 60/100\n",
            "235/235 [==============================] - 1s 4ms/step - loss: 0.0872 - val_loss: 0.0874\n",
            "Epoch 61/100\n",
            "235/235 [==============================] - 1s 4ms/step - loss: 0.0871 - val_loss: 0.0869\n",
            "Epoch 62/100\n",
            "235/235 [==============================] - 1s 4ms/step - loss: 0.0872 - val_loss: 0.0870\n",
            "Epoch 63/100\n",
            "235/235 [==============================] - 1s 4ms/step - loss: 0.0870 - val_loss: 0.0869\n",
            "Epoch 64/100\n",
            "235/235 [==============================] - 1s 4ms/step - loss: 0.0870 - val_loss: 0.0869\n",
            "Epoch 65/100\n",
            "235/235 [==============================] - 1s 4ms/step - loss: 0.0869 - val_loss: 0.0867\n",
            "Epoch 66/100\n",
            "235/235 [==============================] - 1s 4ms/step - loss: 0.0868 - val_loss: 0.0867\n",
            "Epoch 67/100\n",
            "235/235 [==============================] - 1s 4ms/step - loss: 0.0867 - val_loss: 0.0864\n",
            "Epoch 68/100\n",
            "235/235 [==============================] - 1s 4ms/step - loss: 0.0865 - val_loss: 0.0864\n",
            "Epoch 69/100\n",
            "235/235 [==============================] - 1s 4ms/step - loss: 0.0866 - val_loss: 0.0865\n",
            "Epoch 70/100\n",
            "235/235 [==============================] - 1s 4ms/step - loss: 0.0868 - val_loss: 0.0865\n",
            "Epoch 71/100\n",
            "235/235 [==============================] - 1s 4ms/step - loss: 0.0864 - val_loss: 0.0863\n",
            "Epoch 72/100\n",
            "235/235 [==============================] - 1s 4ms/step - loss: 0.0864 - val_loss: 0.0864\n",
            "Epoch 73/100\n",
            "235/235 [==============================] - 1s 4ms/step - loss: 0.0864 - val_loss: 0.0867\n",
            "Epoch 74/100\n",
            "235/235 [==============================] - 1s 4ms/step - loss: 0.0864 - val_loss: 0.0863\n",
            "Epoch 75/100\n",
            "235/235 [==============================] - 1s 4ms/step - loss: 0.0864 - val_loss: 0.0861\n",
            "Epoch 76/100\n",
            "235/235 [==============================] - 1s 4ms/step - loss: 0.0865 - val_loss: 0.0863\n",
            "Epoch 77/100\n",
            "235/235 [==============================] - 1s 4ms/step - loss: 0.0861 - val_loss: 0.0860\n",
            "Epoch 78/100\n",
            "235/235 [==============================] - 1s 4ms/step - loss: 0.0862 - val_loss: 0.0861\n",
            "Epoch 79/100\n",
            "235/235 [==============================] - 1s 4ms/step - loss: 0.0862 - val_loss: 0.0861\n",
            "Epoch 80/100\n",
            "235/235 [==============================] - 1s 4ms/step - loss: 0.0859 - val_loss: 0.0861\n",
            "Epoch 81/100\n",
            "235/235 [==============================] - 1s 4ms/step - loss: 0.0860 - val_loss: 0.0860\n",
            "Epoch 82/100\n",
            "235/235 [==============================] - 1s 4ms/step - loss: 0.0859 - val_loss: 0.0861\n",
            "Epoch 83/100\n",
            "235/235 [==============================] - 1s 4ms/step - loss: 0.0860 - val_loss: 0.0859\n",
            "Epoch 84/100\n",
            "235/235 [==============================] - 1s 4ms/step - loss: 0.0860 - val_loss: 0.0859\n",
            "Epoch 85/100\n",
            "235/235 [==============================] - 1s 4ms/step - loss: 0.0859 - val_loss: 0.0858\n",
            "Epoch 86/100\n",
            "235/235 [==============================] - 1s 4ms/step - loss: 0.0857 - val_loss: 0.0857\n",
            "Epoch 87/100\n",
            "235/235 [==============================] - 1s 4ms/step - loss: 0.0857 - val_loss: 0.0857\n",
            "Epoch 88/100\n",
            "235/235 [==============================] - 1s 4ms/step - loss: 0.0858 - val_loss: 0.0858\n",
            "Epoch 89/100\n",
            "235/235 [==============================] - 1s 4ms/step - loss: 0.0858 - val_loss: 0.0858\n",
            "Epoch 90/100\n",
            "235/235 [==============================] - 1s 4ms/step - loss: 0.0857 - val_loss: 0.0857\n",
            "Epoch 91/100\n",
            "235/235 [==============================] - 1s 4ms/step - loss: 0.0858 - val_loss: 0.0856\n",
            "Epoch 92/100\n",
            "235/235 [==============================] - 1s 4ms/step - loss: 0.0856 - val_loss: 0.0857\n",
            "Epoch 93/100\n",
            "235/235 [==============================] - 1s 4ms/step - loss: 0.0857 - val_loss: 0.0857\n",
            "Epoch 94/100\n",
            "235/235 [==============================] - 1s 4ms/step - loss: 0.0854 - val_loss: 0.0856\n",
            "Epoch 95/100\n",
            "235/235 [==============================] - 1s 4ms/step - loss: 0.0854 - val_loss: 0.0856\n",
            "Epoch 96/100\n",
            "235/235 [==============================] - 1s 4ms/step - loss: 0.0857 - val_loss: 0.0854\n",
            "Epoch 97/100\n",
            "235/235 [==============================] - 1s 4ms/step - loss: 0.0856 - val_loss: 0.0854\n",
            "Epoch 98/100\n",
            "235/235 [==============================] - 1s 4ms/step - loss: 0.0852 - val_loss: 0.0853\n",
            "Epoch 99/100\n",
            "235/235 [==============================] - 1s 4ms/step - loss: 0.0855 - val_loss: 0.0855\n",
            "Epoch 100/100\n",
            "235/235 [==============================] - 1s 4ms/step - loss: 0.0854 - val_loss: 0.0855\n"
          ],
          "name": "stdout"
        },
        {
          "output_type": "execute_result",
          "data": {
            "text/plain": [
              "<tensorflow.python.keras.callbacks.History at 0x7f8af69990d0>"
            ]
          },
          "metadata": {
            "tags": []
          },
          "execution_count": 12
        }
      ]
    },
    {
      "cell_type": "code",
      "metadata": {
        "id": "B6v4Qwv9mZ7q"
      },
      "source": [
        "# Encode and decode some digits\n",
        "# Note that we take them from the *test* set\n",
        "encoded_imgs = encoder.predict(x_test)\n",
        "decoded_imgs = decoder.predict(encoded_imgs)"
      ],
      "execution_count": 13,
      "outputs": []
    },
    {
      "cell_type": "code",
      "metadata": {
        "colab": {
          "base_uri": "https://localhost:8080/",
          "height": 248
        },
        "id": "ZlyDAXgEn8RZ",
        "outputId": "68c64119-b08a-4ad3-d37d-7102df0770ff"
      },
      "source": [
        "import matplotlib.pyplot as plt\n",
        "\n",
        "n = 10  # How many digits we will display\n",
        "plt.figure(figsize=(20, 4))\n",
        "for i in range(n):\n",
        "    # Display original\n",
        "    ax = plt.subplot(2, n, i + 1)\n",
        "    plt.imshow(x_test[i].reshape(28, 28))\n",
        "    plt.gray()\n",
        "    ax.get_xaxis().set_visible(False)\n",
        "    ax.get_yaxis().set_visible(False)\n",
        "\n",
        "    # Display reconstruction\n",
        "    ax = plt.subplot(2, n, i + 1 + n)\n",
        "    plt.imshow(decoded_imgs[i].reshape(28, 28))\n",
        "    plt.gray()\n",
        "    ax.get_xaxis().set_visible(False)\n",
        "    ax.get_yaxis().set_visible(False)\n",
        "plt.show()"
      ],
      "execution_count": 14,
      "outputs": [
        {
          "output_type": "display_data",
          "data": {
            "image/png": "[encoded data removed]",
            "text/plain": [
              "<Figure size 1440x288 with 20 Axes>"
            ]
          },
          "metadata": {
            "tags": [],
            "needs_background": "light"
          }
        }
      ]
    },
    {
      "cell_type": "code",
      "metadata": {
        "id": "zQTh8fuIoBhG"
      },
      "source": [
        ""
      ],
      "execution_count": null,
      "outputs": []
    }
  ]
}