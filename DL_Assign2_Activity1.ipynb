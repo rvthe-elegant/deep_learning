{
  "nbformat": 4,
  "nbformat_minor": 0,
  "metadata": {
    "colab": {
      "name": "DL_Assign2_Activity1.ipynb",
      "provenance": [],
      "collapsed_sections": [],
      "authorship_tag": "ABX9TyN+jAVwEsXXFoRbL42azX/M",
      "include_colab_link": true
    },
    "kernelspec": {
      "name": "python3",
      "display_name": "Python 3"
    }
  },
  "cells": [
    {
      "cell_type": "markdown",
      "metadata": {
        "id": "view-in-github",
        "colab_type": "text"
      },
      "source": [
        "<a href=\"https://colab.research.google.com/github/rvthe-elegant/deep_learning/blob/Assignment_2/DL_Assign2_Activity1.ipynb\" target=\"_parent\"><img src=\"https://colab.research.google.com/assets/colab-badge.svg\" alt=\"Open In Colab\"/></a>"
      ]
    },
    {
      "cell_type": "markdown",
      "metadata": {
        "id": "ymkUk2ghrTeF"
      },
      "source": [
        "## **Sigmoid Activation Function**"
      ]
    },
    {
      "cell_type": "code",
      "metadata": {
        "colab": {
          "base_uri": "https://localhost:8080/"
        },
        "id": "k9mRlhLIPf4L",
        "outputId": "70e44a22-d1d6-4e9c-c1c1-4a8fe50ff0a9"
      },
      "source": [
        "import numpy as np\r\n",
        "\r\n",
        "class NeuralNetwork():\r\n",
        "    \r\n",
        "    def __init__(self):\r\n",
        "        # seeding for random number generation\r\n",
        "        np.random.seed(1)\r\n",
        "        \r\n",
        "        #converting weights to a 3 by 1 matrix with values from -1 to 1 and mean of 0\r\n",
        "        self.synaptic_weights = 2 * np.random.random((3, 1)) - 1\r\n",
        "\r\n",
        "    def sigmoid(self, x):\r\n",
        "        #applying the sigmoid function\r\n",
        "        return 1 / (1 + np.exp(-x))\r\n",
        "\r\n",
        "    def sigmoid_derivative(self, x):\r\n",
        "        #computing derivative to the Sigmoid function\r\n",
        "        return x * (1 - x)\r\n",
        "\r\n",
        "    def train(self, training_inputs, training_outputs, training_iterations):\r\n",
        "        \r\n",
        "        #training the model to make accurate predictions while adjusting weights continually\r\n",
        "        for iteration in range(training_iterations):\r\n",
        "            #siphon the training data via  the neuron\r\n",
        "            output = self.think(training_inputs)\r\n",
        "\r\n",
        "            #computing error rate for back-propagation\r\n",
        "            error = training_outputs - output\r\n",
        "            \r\n",
        "            #performing weight adjustments\r\n",
        "            adjustments = np.dot(training_inputs.T, error * self.sigmoid_derivative(output))\r\n",
        "\r\n",
        "            self.synaptic_weights += adjustments\r\n",
        "\r\n",
        "    def think(self, inputs):\r\n",
        "        #passing the inputs via the neuron to get output   \r\n",
        "        #converting values to floats\r\n",
        "        \r\n",
        "        inputs = inputs.astype(float)\r\n",
        "        output = self.sigmoid(np.dot(inputs, self.synaptic_weights))\r\n",
        "        return output\r\n",
        "\r\n",
        "\r\n",
        "if __name__ == \"__main__\":\r\n",
        "\r\n",
        "    #initializing the neuron class\r\n",
        "    neural_network = NeuralNetwork()\r\n",
        "\r\n",
        "    print(\"Beginning Randomly Generated Weights: \")\r\n",
        "    print(neural_network.synaptic_weights)\r\n",
        "\r\n",
        "    #training data consisting of 4 examples--3 input values and 1 output\r\n",
        "    training_inputs = np.array([[0,0,1],\r\n",
        "                                [1,1,1],\r\n",
        "                                [1,0,1],\r\n",
        "                                [0,1,1]])\r\n",
        "\r\n",
        "    training_outputs = np.array([[0,1,1,0]]).T\r\n",
        "\r\n",
        "    #training taking place\r\n",
        "    neural_network.train(training_inputs, training_outputs, 15000)\r\n",
        "\r\n",
        "    print(\"Ending Weights After Training: \")\r\n",
        "    print(neural_network.synaptic_weights)\r\n",
        "\r\n",
        "    user_input_one = str(input(\"User Input One: \"))\r\n",
        "    user_input_two = str(input(\"User Input Two: \"))\r\n",
        "    user_input_three = str(input(\"User Input Three: \"))\r\n",
        "    \r\n",
        "    print(\"Considering New Situation: \", user_input_one, user_input_two, user_input_three)\r\n",
        "    print(\"New Output data: \")\r\n",
        "    print(neural_network.think(np.array([user_input_one, user_input_two, user_input_three])))\r\n",
        "    print(\"Wow, we did it!\")"
      ],
      "execution_count": 8,
      "outputs": [
        {
          "output_type": "stream",
          "text": [
            "Beginning Randomly Generated Weights: \n",
            "[[-0.16595599]\n",
            " [ 0.44064899]\n",
            " [-0.99977125]]\n",
            "Ending Weights After Training: \n",
            "[[10.08740896]\n",
            " [-0.20695366]\n",
            " [-4.83757835]]\n",
            "User Input One: 1\n",
            "User Input Two: 0\n",
            "User Input Three: 0\n",
            "Considering New Situation:  1 0 0\n",
            "New Output data: \n",
            "[0.9999584]\n",
            "Wow, we did it!\n"
          ],
          "name": "stdout"
        }
      ]
    },
    {
      "cell_type": "markdown",
      "metadata": {
        "id": "IaZagY_8Te4j"
      },
      "source": [
        "# Tanh Activation Function"
      ]
    },
    {
      "cell_type": "code",
      "metadata": {
        "colab": {
          "base_uri": "https://localhost:8080/"
        },
        "id": "FWp2F1UwTlju",
        "outputId": "8bafb865-309c-4711-bea6-6e0400d079dc"
      },
      "source": [
        "import numpy as np\r\n",
        "\r\n",
        "class NeuralNetwork():\r\n",
        "    \r\n",
        "    def __init__(self):\r\n",
        "        # seeding for random number generation\r\n",
        "        np.random.seed(1)\r\n",
        "        \r\n",
        "        #converting weights to a 3 by 1 matrix with values from -1 to 1 and mean of 0\r\n",
        "        self.synaptic_weights = 2 * np.random.random((3, 1)) - 1\r\n",
        "\r\n",
        "    def tanh(self, x):\r\n",
        "        #applying the tanh function\r\n",
        "        return (2 / (1 + np.exp(-2*x))) - 1\r\n",
        "\r\n",
        "    def tanh_derivative(self, x):\r\n",
        "        #computing derivative to the tanh function\r\n",
        "        return 1 - (x*x)\r\n",
        "\r\n",
        "    def train(self, training_inputs, training_outputs, training_iterations):\r\n",
        "        \r\n",
        "        #training the model to make accurate predictions while adjusting weights continually\r\n",
        "        for iteration in range(training_iterations):\r\n",
        "            #siphon the training data via  the neuron\r\n",
        "            output = self.think(training_inputs)\r\n",
        "\r\n",
        "            #computing error rate for back-propagation\r\n",
        "            error = training_outputs - output\r\n",
        "            \r\n",
        "            #performing weight adjustments\r\n",
        "            adjustments = np.dot(training_inputs.T, error * self.tanh_derivative(output))\r\n",
        "\r\n",
        "            self.synaptic_weights += adjustments\r\n",
        "\r\n",
        "    def think(self, inputs):\r\n",
        "        #passing the inputs via the neuron to get output   \r\n",
        "        #converting values to floats\r\n",
        "        \r\n",
        "        inputs = inputs.astype(float)\r\n",
        "        output = self.tanh(np.dot(inputs, self.synaptic_weights))\r\n",
        "        return output\r\n",
        "\r\n",
        "\r\n",
        "if __name__ == \"__main__\":\r\n",
        "\r\n",
        "    #initializing the neuron class\r\n",
        "    neural_network = NeuralNetwork()\r\n",
        "\r\n",
        "    print(\"Beginning Randomly Generated Weights: \")\r\n",
        "    print(neural_network.synaptic_weights)\r\n",
        "\r\n",
        "    #training data consisting of 4 examples--3 input values and 1 output\r\n",
        "    training_inputs = np.array([[0,0,1],\r\n",
        "                                [1,1,1],\r\n",
        "                                [1,0,1],\r\n",
        "                                [0,1,1]])\r\n",
        "\r\n",
        "    training_outputs = np.array([[0,1,1,0]]).T\r\n",
        "\r\n",
        "    #training taking place\r\n",
        "    neural_network.train(training_inputs, training_outputs, 15000)\r\n",
        "\r\n",
        "    print(\"Ending Weights After Training: \")\r\n",
        "    print(neural_network.synaptic_weights)\r\n",
        "\r\n",
        "    user_input_one = str(input(\"User Input One: \"))\r\n",
        "    user_input_two = str(input(\"User Input Two: \"))\r\n",
        "    user_input_three = str(input(\"User Input Three: \"))\r\n",
        "    \r\n",
        "    print(\"Considering New Situation: \", user_input_one, user_input_two, user_input_three)\r\n",
        "    print(\"New Output data: \")\r\n",
        "    print(neural_network.think(np.array([user_input_one, user_input_two, user_input_three])))\r\n",
        "    print(\"Wow, we did it!\")"
      ],
      "execution_count": 4,
      "outputs": [
        {
          "output_type": "stream",
          "text": [
            "Beginning Randomly Generated Weights: \n",
            "[[-0.16595599]\n",
            " [ 0.44064899]\n",
            " [-0.99977125]]\n",
            "Ending Weights After Training: \n",
            "[[ 3.70829131]\n",
            " [-0.18256004]\n",
            " [-0.32370443]]\n",
            "User Input One: 1\n",
            "User Input Two: 0\n",
            "User Input Three: 0\n",
            "Considering New Situation:  1 0 0\n",
            "New Output data: \n",
            "[0.99879832]\n",
            "Wow, we did it!\n"
          ],
          "name": "stdout"
        }
      ]
    },
    {
      "cell_type": "markdown",
      "metadata": {
        "id": "BRciL_BfUGZt"
      },
      "source": [
        "# Hyperbolic Tangent Function"
      ]
    },
    {
      "cell_type": "code",
      "metadata": {
        "colab": {
          "base_uri": "https://localhost:8080/"
        },
        "id": "cCNJs2FhUOR-",
        "outputId": "ce7689d9-1c91-472c-cc29-6809230952f7"
      },
      "source": [
        "import numpy as np\r\n",
        "\r\n",
        "class NeuralNetwork():\r\n",
        "    \r\n",
        "    def __init__(self):\r\n",
        "        # seeding for random number generation\r\n",
        "        np.random.seed(1)\r\n",
        "        \r\n",
        "        #converting weights to a 3 by 1 matrix with values from -1 to 1 and mean of 0\r\n",
        "        self.synaptic_weights = 2 * np.random.random((3, 1)) - 1\r\n",
        "\r\n",
        "    def hyperbolic_tangent(self, x):\r\n",
        "        #applying the hyperbolic tangent function\r\n",
        "        return (np.exp(x) - np.exp(-x)) / (np.exp(x) + np.exp(-x))\r\n",
        "\r\n",
        "    def hyperbolic_derivative(self, x):\r\n",
        "        #computing derivative to the hyperbolic tangent function\r\n",
        "        return 1-(x*x)\r\n",
        "\r\n",
        "    def train(self, training_inputs, training_outputs, training_iterations):\r\n",
        "        \r\n",
        "        #training the model to make accurate predictions while adjusting weights continually\r\n",
        "        for iteration in range(training_iterations):\r\n",
        "            #siphon the training data via  the neuron\r\n",
        "            output = self.think(training_inputs)\r\n",
        "\r\n",
        "            #computing error rate for back-propagation\r\n",
        "            error = training_outputs - output\r\n",
        "            \r\n",
        "            #performing weight adjustments\r\n",
        "            adjustments = np.dot(training_inputs.T, error * self.hyperbolic_derivative(output))\r\n",
        "\r\n",
        "            self.synaptic_weights += adjustments\r\n",
        "\r\n",
        "    def think(self, inputs):\r\n",
        "        #passing the inputs via the neuron to get output   \r\n",
        "        #converting values to floats\r\n",
        "        \r\n",
        "        inputs = inputs.astype(float)\r\n",
        "        output = self.hyperbolic_tangent(np.dot(inputs, self.synaptic_weights))\r\n",
        "        return output\r\n",
        "\r\n",
        "\r\n",
        "if __name__ == \"__main__\":\r\n",
        "\r\n",
        "    #initializing the neuron class\r\n",
        "    neural_network = NeuralNetwork()\r\n",
        "\r\n",
        "    print(\"Beginning Randomly Generated Weights: \")\r\n",
        "    print(neural_network.synaptic_weights)\r\n",
        "\r\n",
        "    #training data consisting of 4 examples--3 input values and 1 output\r\n",
        "    training_inputs = np.array([[0,0,1],\r\n",
        "                                [1,1,1],\r\n",
        "                                [1,0,1],\r\n",
        "                                [0,1,1]])\r\n",
        "\r\n",
        "    training_outputs = np.array([[0,1,1,0]]).T\r\n",
        "\r\n",
        "    #training taking place\r\n",
        "    neural_network.train(training_inputs, training_outputs, 15000)\r\n",
        "\r\n",
        "    print(\"Ending Weights After Training: \")\r\n",
        "    print(neural_network.synaptic_weights)\r\n",
        "\r\n",
        "    user_input_one = str(input(\"User Input One: \"))\r\n",
        "    user_input_two = str(input(\"User Input Two: \"))\r\n",
        "    user_input_three = str(input(\"User Input Three: \"))\r\n",
        "    \r\n",
        "    print(\"Considering New Situation: \", user_input_one, user_input_two, user_input_three)\r\n",
        "    print(\"New Output data: \")\r\n",
        "    print(neural_network.think(np.array([user_input_one, user_input_two, user_input_three])))\r\n",
        "    print(\"Wow, we did it!\")"
      ],
      "execution_count": 5,
      "outputs": [
        {
          "output_type": "stream",
          "text": [
            "Beginning Randomly Generated Weights: \n",
            "[[-0.16595599]\n",
            " [ 0.44064899]\n",
            " [-0.99977125]]\n",
            "Ending Weights After Training: \n",
            "[[ 3.70829131]\n",
            " [-0.18256004]\n",
            " [-0.32370443]]\n",
            "User Input One: 1\n",
            "User Input Two: 0\n",
            "User Input Three: 0\n",
            "Considering New Situation:  1 0 0\n",
            "New Output data: \n",
            "[0.99879832]\n",
            "Wow, we did it!\n"
          ],
          "name": "stdout"
        }
      ]
    },
    {
      "cell_type": "markdown",
      "metadata": {
        "id": "8jvJgKIFr2jk"
      },
      "source": [
        "## **Leaky ReLu Activation Function**"
      ]
    },
    {
      "cell_type": "code",
      "metadata": {
        "colab": {
          "base_uri": "https://localhost:8080/"
        },
        "id": "_IlZga7dUsvD",
        "outputId": "19f0e157-55ee-4131-f160-2373e86d9822"
      },
      "source": [
        "import numpy as np\r\n",
        "\r\n",
        "class NeuralNetwork():\r\n",
        "    \r\n",
        "    def __init__(self):\r\n",
        "        # seeding for random number generation\r\n",
        "        np.random.seed(1)\r\n",
        "        \r\n",
        "        #converting weights to a 3 by 1 matrix with values from -1 to 1 and mean of 0\r\n",
        "        self.synaptic_weights = 2 * np.random.random((3, 1)) - 1\r\n",
        "\r\n",
        "    def Leaky_relu(self, x):\r\n",
        "        #applying the Leaky relu function\r\n",
        "       return np.where(x > 0, x, x * 0.01)\r\n",
        "\r\n",
        "    def Leaky_relu_derivative(self, x):\r\n",
        "        #computing derivative to the Leaky_relu function\r\n",
        "        return np.where(x > 0, x,  0.01)\r\n",
        "\r\n",
        "    def train(self, training_inputs, training_outputs, training_iterations):\r\n",
        "        \r\n",
        "        #training the model to make accurate predictions while adjusting weights continually\r\n",
        "        for iteration in range(training_iterations):\r\n",
        "            #siphon the training data via  the neuron\r\n",
        "            output = self.think(training_inputs)\r\n",
        "\r\n",
        "            #computing error rate for back-propagation\r\n",
        "            error = training_outputs - output\r\n",
        "            \r\n",
        "            #performing weight adjustments\r\n",
        "            adjustments = np.dot(training_inputs.T, error * self.Leaky_relu_derivative(output))\r\n",
        "\r\n",
        "            self.synaptic_weights += adjustments\r\n",
        "\r\n",
        "    def think(self, inputs):\r\n",
        "        #passing the inputs via the neuron to get output   \r\n",
        "        #converting values to floats\r\n",
        "        \r\n",
        "        inputs = inputs.astype(float)\r\n",
        "        output = self.Leaky_relu(np.dot(inputs, self.synaptic_weights))\r\n",
        "        return output\r\n",
        "\r\n",
        "\r\n",
        "if __name__ == \"__main__\":\r\n",
        "\r\n",
        "    #initializing the neuron class\r\n",
        "    neural_network = NeuralNetwork()\r\n",
        "\r\n",
        "    print(\"Beginning Randomly Generated Weights: \")\r\n",
        "    print(neural_network.synaptic_weights)\r\n",
        "\r\n",
        "    #training data consisting of 4 examples--3 input values and 1 output\r\n",
        "    training_inputs = np.array([[0,0,1],\r\n",
        "                                [1,1,1],\r\n",
        "                                [1,0,1],\r\n",
        "                                [0,1,1]])\r\n",
        "\r\n",
        "    training_outputs = np.array([[0,1,1,0]]).T\r\n",
        "\r\n",
        "    #training taking place\r\n",
        "    neural_network.train(training_inputs, training_outputs, 15000)\r\n",
        "\r\n",
        "    print(\"Ending Weights After Training: \")\r\n",
        "    print(neural_network.synaptic_weights)\r\n",
        "\r\n",
        "    user_input_one = str(input(\"User Input One: \"))\r\n",
        "    user_input_two = str(input(\"User Input0 Two: \"))\r\n",
        "    user_input_three = str(input(\"User Input Three: \"))\r\n",
        "    \r\n",
        "    print(\"Considering New Situation: \", user_input_one, user_input_two, user_input_three)\r\n",
        "    print(\"New Output data: \")\r\n",
        "    print(neural_network.think(np.array([user_input_one, user_input_two, user_input_three])))\r\n",
        "    print(\"Wow, we did it!\")"
      ],
      "execution_count": 14,
      "outputs": [
        {
          "output_type": "stream",
          "text": [
            "Beginning Randomly Generated Weights: \n",
            "[[-0.16595599]\n",
            " [ 0.44064899]\n",
            " [-0.99977125]]\n",
            "Ending Weights After Training: \n",
            "[[ 0.54072482]\n",
            " [-0.46046312]\n",
            " [-0.83025092]]\n",
            "User Input One: 1\n",
            "User Input Two: 0\n",
            "User Input Three: 0\n",
            "Considering New Situation:  1 0 0\n",
            "New Output data: \n",
            "[0.54072482]\n",
            "Wow, we did it!\n"
          ],
          "name": "stdout"
        }
      ]
    },
    {
      "cell_type": "code",
      "metadata": {
        "id": "O3nwXPFrV4wa"
      },
      "source": [
        ""
      ],
      "execution_count": null,
      "outputs": []
    }
  ]
}